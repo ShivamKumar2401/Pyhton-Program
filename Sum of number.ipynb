{
 "cells": [
  {
   "cell_type": "code",
   "execution_count": 3,
   "id": "dc02f950-8805-43d3-951c-0f1f01ae2802",
   "metadata": {},
   "outputs": [
    {
     "name": "stdin",
     "output_type": "stream",
     "text": [
      "Enter first number 12\n",
      "Enter second number 12\n"
     ]
    },
    {
     "name": "stdout",
     "output_type": "stream",
     "text": [
      "The sum  12 & 12 = 24\n"
     ]
    }
   ],
   "source": [
    "n1=input(\"Enter first number\")\n",
    "n2=input(\"Enter second number\")\n",
    "sum=int(n1)+int(n2)\n",
    "print(\"The sum  \"+ n1 + \" & \" +n2+ \" = \" +str(sum)) \n"
   ]
  }
 ],
 "metadata": {
  "kernelspec": {
   "display_name": "Python [conda env:base] *",
   "language": "python",
   "name": "conda-base-py"
  },
  "language_info": {
   "codemirror_mode": {
    "name": "ipython",
    "version": 3
   },
   "file_extension": ".py",
   "mimetype": "text/x-python",
   "name": "python",
   "nbconvert_exporter": "python",
   "pygments_lexer": "ipython3",
   "version": "3.12.7"
  }
 },
 "nbformat": 4,
 "nbformat_minor": 5
}
