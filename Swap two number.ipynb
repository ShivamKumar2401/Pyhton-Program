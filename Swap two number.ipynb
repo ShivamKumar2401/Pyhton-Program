{
 "cells": [
  {
   "cell_type": "code",
   "execution_count": 3,
   "id": "feea4482-fd90-4550-96d6-2fa82d410a0a",
   "metadata": {},
   "outputs": [
    {
     "name": "stdin",
     "output_type": "stream",
     "text": [
      "Enter a number 12\n",
      "Enter a number 23\n"
     ]
    },
    {
     "name": "stdout",
     "output_type": "stream",
     "text": [
      "Before swapping value of n1 = 12 Before swapping value of n2 = 23\n",
      "After swapping value of n1 = 23 After swapping value of n2 = 12\n"
     ]
    }
   ],
   "source": [
    "n1=int(input(\"Enter a number\"))\n",
    "n2=int(input(\"Enter a number\"))\n",
    "print(\"Before swapping value of n1 = \"+str(n1)+\" Before swapping value of n2 = \"+str(n2))\n",
    "temp=n1\n",
    "n1=n2\n",
    "n2=temp\n",
    "print(\"After swapping value of n1 = \"+str(n1)+\" After swapping value of n2 = \"+str(n2))"
   ]
  }
 ],
 "metadata": {
  "kernelspec": {
   "display_name": "Python [conda env:base] *",
   "language": "python",
   "name": "conda-base-py"
  },
  "language_info": {
   "codemirror_mode": {
    "name": "ipython",
    "version": 3
   },
   "file_extension": ".py",
   "mimetype": "text/x-python",
   "name": "python",
   "nbconvert_exporter": "python",
   "pygments_lexer": "ipython3",
   "version": "3.12.7"
  }
 },
 "nbformat": 4,
 "nbformat_minor": 5
}
