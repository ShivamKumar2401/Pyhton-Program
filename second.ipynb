{
 "cells": [
  {
   "cell_type": "code",
   "execution_count": null,
   "id": "8eb53787-ceb7-4bc8-9dcb-8781032845a1",
   "metadata": {},
   "outputs": [],
   "source": [
    "#Employee data from the keyboard and print it\n",
    "eno=int(input(\"Enter employee number\"))\n",
    "ename=input(\"Enter employee Name\")\n",
    "esal=float(input(\"Enter employee salary\"))\n",
    "eaddr=input(\"Enter employee address\")\n",
    "married=bool(input(\"Enter employee married ?[True/False]\"))\n",
    "print(\"Employee number \",eno)\n",
    "print(\"Employee name \",ename)\n",
    "print(\"Employee salary\",esal)\n",
    "print(\"Employee address \",eaddr)\n",
    "print(\"Employee married\",married)"
   ]
  },
  {
   "cell_type": "code",
   "execution_count": 3,
   "id": "721b26a8-50e3-4374-8077-a7792d1bfc44",
   "metadata": {},
   "outputs": [
    {
     "name": "stdin",
     "output_type": "stream",
     "text": [
      "Enter a number 12\n",
      "Enter second  number 23\n"
     ]
    },
    {
     "name": "stdout",
     "output_type": "stream",
     "text": [
      "35\n"
     ]
    }
   ],
   "source": [
    "# Enter two number from the keyboard and sum it\n",
    "x=input(\"Enter a number\")\n",
    "y=input(\"Enter second  number\")\n",
    "i=int(x)\n",
    "j=int(y)\n",
    "print(i+j)"
   ]
  },
  {
   "cell_type": "code",
   "execution_count": 7,
   "id": "f4d41d84-5b72-4a54-85af-e6893abb1a88",
   "metadata": {},
   "outputs": [
    {
     "name": "stdin",
     "output_type": "stream",
     "text": [
      "Enter a number 11\n",
      "Enter a number 23\n"
     ]
    },
    {
     "name": "stdout",
     "output_type": "stream",
     "text": [
      "34\n"
     ]
    }
   ],
   "source": [
    "a=int(input(\"Enter a number\"))\n",
    "b=int(input(\"Enter a number\"))\n",
    "print(a+b)"
   ]
  },
  {
   "cell_type": "code",
   "execution_count": 9,
   "id": "719f0f28-d27f-445e-b77a-30ffe927ca97",
   "metadata": {},
   "outputs": [
    {
     "name": "stdin",
     "output_type": "stream",
     "text": [
      "Enter first number 12\n",
      "Enter second number 12\n"
     ]
    },
    {
     "name": "stdout",
     "output_type": "stream",
     "text": [
      "The Sum 24\n"
     ]
    }
   ],
   "source": [
    "print(\"The Sum\",int(input(\"Enter first number\"))+ int(input(\"Enter second number\")))"
   ]
  },
  {
   "cell_type": "code",
   "execution_count": null,
   "id": "f8e0fff0-9305-464e-9c9c-ac08197e4277",
   "metadata": {},
   "outputs": [],
   "source": []
  }
 ],
 "metadata": {
  "kernelspec": {
   "display_name": "Python [conda env:base] *",
   "language": "python",
   "name": "conda-base-py"
  },
  "language_info": {
   "codemirror_mode": {
    "name": "ipython",
    "version": 3
   },
   "file_extension": ".py",
   "mimetype": "text/x-python",
   "name": "python",
   "nbconvert_exporter": "python",
   "pygments_lexer": "ipython3",
   "version": "3.12.7"
  }
 },
 "nbformat": 4,
 "nbformat_minor": 5
}
