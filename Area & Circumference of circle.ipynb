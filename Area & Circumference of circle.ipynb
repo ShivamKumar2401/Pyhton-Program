{
 "cells": [
  {
   "cell_type": "code",
   "execution_count": 3,
   "id": "eafb96f5-cbfa-4c6c-b02c-1f7087003878",
   "metadata": {},
   "outputs": [
    {
     "name": "stdin",
     "output_type": "stream",
     "text": [
      "Enter radius of circle 12\n"
     ]
    },
    {
     "name": "stdout",
     "output_type": "stream",
     "text": [
      "Area of circle =  452.16\n",
      "Circumference of circle  75.36\n"
     ]
    }
   ],
   "source": [
    "#Program to find the area and circumference of a circle\n",
    "r=float(input(\"Enter radius of circle\"))\n",
    "area=3.14*(r)**2\n",
    "cir=2*3.14*r\n",
    "print(\"Area of circle = \",area)\n",
    "print(\"Circumference of circle \",cir)"
   ]
  }
 ],
 "metadata": {
  "kernelspec": {
   "display_name": "Python [conda env:base] *",
   "language": "python",
   "name": "conda-base-py"
  },
  "language_info": {
   "codemirror_mode": {
    "name": "ipython",
    "version": 3
   },
   "file_extension": ".py",
   "mimetype": "text/x-python",
   "name": "python",
   "nbconvert_exporter": "python",
   "pygments_lexer": "ipython3",
   "version": "3.12.7"
  }
 },
 "nbformat": 4,
 "nbformat_minor": 5
}
