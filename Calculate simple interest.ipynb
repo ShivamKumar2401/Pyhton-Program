{
 "cells": [
  {
   "cell_type": "code",
   "execution_count": 1,
   "id": "dbabc74c-09cf-4a9c-9901-5f718689e8e5",
   "metadata": {},
   "outputs": [
    {
     "name": "stdin",
     "output_type": "stream",
     "text": [
      "Enter principle 1000\n",
      "Enter rate 2\n",
      "Enter time 1\n"
     ]
    },
    {
     "name": "stdout",
     "output_type": "stream",
     "text": [
      "Simple interest = 20.0\n"
     ]
    }
   ],
   "source": [
    "p=float(input(\"Enter principle\"))\n",
    "r=float(input(\"Enter rate\"))\n",
    "t=int(input(\"Enter time\"))\n",
    "si=(p*r*t)/100\n",
    "print(\"Simple interest = \"+str(si))"
   ]
  }
 ],
 "metadata": {
  "kernelspec": {
   "display_name": "Python [conda env:base] *",
   "language": "python",
   "name": "conda-base-py"
  },
  "language_info": {
   "codemirror_mode": {
    "name": "ipython",
    "version": 3
   },
   "file_extension": ".py",
   "mimetype": "text/x-python",
   "name": "python",
   "nbconvert_exporter": "python",
   "pygments_lexer": "ipython3",
   "version": "3.12.7"
  }
 },
 "nbformat": 4,
 "nbformat_minor": 5
}
